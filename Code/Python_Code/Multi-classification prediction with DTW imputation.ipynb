{
 "cells": [
  {
   "cell_type": "markdown",
   "metadata": {},
   "source": [
    "## Import Libraries"
   ]
  },
  {
   "cell_type": "code",
   "execution_count": 12,
   "metadata": {},
   "outputs": [],
   "source": [
    "import numpy as np\n",
    "import pandas as pd\n",
    "import os\n",
    "import random\n",
    "from sklearn.model_selection import train_test_split\n",
    "from sklearn.metrics import confusion_matrix\n",
    "import seaborn as sns\n",
    "import matplotlib.pyplot as plt\n",
    "from tensorflow.keras.models import Sequential\n",
    "from tensorflow.keras.layers import GRU, Dense\n",
    "from tensorflow.keras.optimizers import Adam\n",
    "from tensorflow.keras.losses import MeanSquaredError\n",
    "import tensorflow as tf\n",
    "from tensorflow.keras import backend as K"
   ]
  },
  {
   "cell_type": "markdown",
   "metadata": {},
   "source": [
    "##  Load the Individual CSV Files"
   ]
  },
  {
   "cell_type": "code",
   "execution_count": 13,
   "metadata": {},
   "outputs": [],
   "source": [
    "# Define the path to your data directory\n",
    "data_directory = r'C:\\Users\\Xande\\OneDrive\\Documents\\Masters Project\\Simulated Data\\data\\imputed_data'\n",
    "\n",
    "def load_data(directory):\n",
    "    data = {}\n",
    "    mask = {}\n",
    "    labels = {}\n",
    "\n",
    "    for filename in os.listdir(directory):\n",
    "        if filename.startswith('imputed_matrix_'):\n",
    "            id = filename.split('_')[2].split('.')[0]\n",
    "            data[id] = pd.read_csv(os.path.join(directory, filename)).values\n",
    "        elif filename.startswith('mask_matrix_'):\n",
    "            id = filename.split('_')[2].split('.')[0]\n",
    "            mask[id] = pd.read_csv(os.path.join(directory, filename)).values\n",
    "        elif filename.startswith('label_'):\n",
    "            id = filename.split('_')[1].split('.')[0]\n",
    "            label_df = pd.read_csv(os.path.join(directory, filename))\n",
    "            if label_df.shape[0] > 0:\n",
    "                labels[id] = int(label_df.iloc[0, 0])  # Ensure labels are integers\n",
    "            else:\n",
    "                print(f\"Error reading label for {id}. File content:\")\n",
    "                print(label_df)\n",
    "    \n",
    "    return data, mask, labels\n",
    "\n",
    "# Load the data\n",
    "data, mask, labels = load_data(data_directory)"
   ]
  },
  {
   "cell_type": "markdown",
   "metadata": {},
   "source": [
    "## Pad Sequences to Ensure They Have the Same Length"
   ]
  },
  {
   "cell_type": "code",
   "execution_count": 14,
   "metadata": {},
   "outputs": [
    {
     "name": "stdout",
     "output_type": "stream",
     "text": [
      "Data shape: (5163, 3, 19)\n",
      "Mask shape: (5163, 3, 19)\n",
      "Labels shape: (5163,)\n"
     ]
    }
   ],
   "source": [
    "# Find the maximum number of columns in any matrix\n",
    "max_cols = max(matrix.shape[1] for matrix in data.values())\n",
    "\n",
    "def pad_matrix(matrix, max_cols):\n",
    "    \"\"\"Pad each row of the matrix to have the same number of columns.\"\"\"\n",
    "    padding_width = max_cols - matrix.shape[1]\n",
    "    if padding_width > 0:\n",
    "        return np.pad(matrix, ((0, 0), (0, padding_width)), mode='constant', constant_values=0)\n",
    "    return matrix\n",
    "\n",
    "def pad_sequences_data(data_dict, max_cols):\n",
    "    padded_sequences = {id: pad_matrix(matrix, max_cols) for id, matrix in data_dict.items()}\n",
    "    return padded_sequences\n",
    "\n",
    "# Pad data and mask matrices\n",
    "padded_data = pad_sequences_data(data, max_cols)\n",
    "padded_masks = pad_sequences_data(mask, max_cols)\n",
    "\n",
    "# Convert to numpy arrays\n",
    "data_array = np.array(list(padded_data.values()))\n",
    "mask_array = np.array(list(padded_masks.values()))\n",
    "\n",
    "# Convert labels to numpy array\n",
    "labels_list = [labels[id] for id in padded_data.keys()]\n",
    "labels_array = np.array(labels_list)\n",
    "\n",
    "print(\"Data shape:\", data_array.shape)\n",
    "print(\"Mask shape:\", mask_array.shape)\n",
    "print(\"Labels shape:\", labels_array.shape)\n"
   ]
  },
  {
   "cell_type": "code",
   "execution_count": 15,
   "metadata": {},
   "outputs": [
    {
     "name": "stdout",
     "output_type": "stream",
     "text": [
      "Random Person ID: 2147681082\n",
      "Data Matrix:\n",
      "[[-2.02665562 -1.9932583  -1.93177687 -1.94543941 -2.05929391 -2.12845672\n",
      "  -1.86194611 -1.8632061  -1.80672668 -1.90696165 -2.08813705 -1.80438634\n",
      "  -1.84587998 -1.72683877 -1.70875362 -1.6686819  -1.78907923 -1.68956066\n",
      "  -1.66915249]\n",
      " [ 0.37225833  0.69052751  0.23964617 -0.02557814  0.98227426  1.274021\n",
      "   1.19445371  2.91841176  3.58147255  4.48323523  2.94493419  2.0299103\n",
      "   2.62666501  2.67970988  2.49405286  1.99012666  2.20230611  2.0299103\n",
      "   1.7779472 ]\n",
      " [-1.32887532 -1.63385577 -1.0447352  -1.0447352  -0.71891443 -0.53592616\n",
      "  -1.20688314 -0.27160977  0.22652496 -0.71891443  0.37901519 -0.35293789\n",
      "  -0.35293789 -0.04795744  0.3180191  -1.02389487 -1.0447352  -1.0447352\n",
      "   0.44001128]]\n",
      "\n",
      "Mask Matrix:\n",
      "[[1 1 1 1 1 1 1 1 1 1 1 1 1 1 1 1 1 0 1]\n",
      " [1 1 1 1 1 1 1 1 1 1 1 0 1 1 1 1 1 0 1]\n",
      " [1 1 0 0 1 1 1 1 1 1 1 1 1 1 1 1 0 0 1]]\n",
      "\n",
      "Label: 5\n"
     ]
    }
   ],
   "source": [
    "import random\n",
    "\n",
    "# Choose a random person ID\n",
    "random_id = random.choice(list(data.keys()))\n",
    "\n",
    "# Get the data, mask, and label for this person\n",
    "random_data = data[random_id]\n",
    "random_mask = mask[random_id]\n",
    "random_label = labels[random_id]\n",
    "\n",
    "print(f\"Random Person ID: {random_id}\")\n",
    "print(\"Data Matrix:\")\n",
    "print(random_data)\n",
    "print(\"\\nMask Matrix:\")\n",
    "print(random_mask)\n",
    "print(\"\\nLabel:\", random_label)\n"
   ]
  },
  {
   "cell_type": "code",
   "execution_count": 16,
   "metadata": {},
   "outputs": [
    {
     "name": "stderr",
     "output_type": "stream",
     "text": [
      "c:\\Users\\Xande\\AppData\\Local\\Programs\\Python\\Python312\\Lib\\site-packages\\keras\\src\\layers\\rnn\\rnn.py:204: UserWarning: Do not pass an `input_shape`/`input_dim` argument to a layer. When using Sequential models, prefer using an `Input(shape)` object as the first layer in the model instead.\n",
      "  super().__init__(**kwargs)\n"
     ]
    },
    {
     "data": {
      "text/html": [
       "<pre style=\"white-space:pre;overflow-x:auto;line-height:normal;font-family:Menlo,'DejaVu Sans Mono',consolas,'Courier New',monospace\"><span style=\"font-weight: bold\">Model: \"sequential_4\"</span>\n",
       "</pre>\n"
      ],
      "text/plain": [
       "\u001b[1mModel: \"sequential_4\"\u001b[0m\n"
      ]
     },
     "metadata": {},
     "output_type": "display_data"
    },
    {
     "data": {
      "text/html": [
       "<pre style=\"white-space:pre;overflow-x:auto;line-height:normal;font-family:Menlo,'DejaVu Sans Mono',consolas,'Courier New',monospace\">┏━━━━━━━━━━━━━━━━━━━━━━━━━━━━━━━━━┳━━━━━━━━━━━━━━━━━━━━━━━━┳━━━━━━━━━━━━━━━┓\n",
       "┃<span style=\"font-weight: bold\"> Layer (type)                    </span>┃<span style=\"font-weight: bold\"> Output Shape           </span>┃<span style=\"font-weight: bold\">       Param # </span>┃\n",
       "┡━━━━━━━━━━━━━━━━━━━━━━━━━━━━━━━━━╇━━━━━━━━━━━━━━━━━━━━━━━━╇━━━━━━━━━━━━━━━┩\n",
       "│ gru_8 (<span style=\"color: #0087ff; text-decoration-color: #0087ff\">GRU</span>)                     │ (<span style=\"color: #00d7ff; text-decoration-color: #00d7ff\">None</span>, <span style=\"color: #00af00; text-decoration-color: #00af00\">3</span>, <span style=\"color: #00af00; text-decoration-color: #00af00\">100</span>)         │        <span style=\"color: #00af00; text-decoration-color: #00af00\">36,300</span> │\n",
       "├─────────────────────────────────┼────────────────────────┼───────────────┤\n",
       "│ gru_9 (<span style=\"color: #0087ff; text-decoration-color: #0087ff\">GRU</span>)                     │ (<span style=\"color: #00d7ff; text-decoration-color: #00d7ff\">None</span>, <span style=\"color: #00af00; text-decoration-color: #00af00\">100</span>)            │        <span style=\"color: #00af00; text-decoration-color: #00af00\">60,600</span> │\n",
       "├─────────────────────────────────┼────────────────────────┼───────────────┤\n",
       "│ dense_8 (<span style=\"color: #0087ff; text-decoration-color: #0087ff\">Dense</span>)                 │ (<span style=\"color: #00d7ff; text-decoration-color: #00d7ff\">None</span>, <span style=\"color: #00af00; text-decoration-color: #00af00\">150</span>)            │        <span style=\"color: #00af00; text-decoration-color: #00af00\">15,150</span> │\n",
       "├─────────────────────────────────┼────────────────────────┼───────────────┤\n",
       "│ dense_9 (<span style=\"color: #0087ff; text-decoration-color: #0087ff\">Dense</span>)                 │ (<span style=\"color: #00d7ff; text-decoration-color: #00d7ff\">None</span>, <span style=\"color: #00af00; text-decoration-color: #00af00\">1</span>)              │           <span style=\"color: #00af00; text-decoration-color: #00af00\">151</span> │\n",
       "└─────────────────────────────────┴────────────────────────┴───────────────┘\n",
       "</pre>\n"
      ],
      "text/plain": [
       "┏━━━━━━━━━━━━━━━━━━━━━━━━━━━━━━━━━┳━━━━━━━━━━━━━━━━━━━━━━━━┳━━━━━━━━━━━━━━━┓\n",
       "┃\u001b[1m \u001b[0m\u001b[1mLayer (type)                   \u001b[0m\u001b[1m \u001b[0m┃\u001b[1m \u001b[0m\u001b[1mOutput Shape          \u001b[0m\u001b[1m \u001b[0m┃\u001b[1m \u001b[0m\u001b[1m      Param #\u001b[0m\u001b[1m \u001b[0m┃\n",
       "┡━━━━━━━━━━━━━━━━━━━━━━━━━━━━━━━━━╇━━━━━━━━━━━━━━━━━━━━━━━━╇━━━━━━━━━━━━━━━┩\n",
       "│ gru_8 (\u001b[38;5;33mGRU\u001b[0m)                     │ (\u001b[38;5;45mNone\u001b[0m, \u001b[38;5;34m3\u001b[0m, \u001b[38;5;34m100\u001b[0m)         │        \u001b[38;5;34m36,300\u001b[0m │\n",
       "├─────────────────────────────────┼────────────────────────┼───────────────┤\n",
       "│ gru_9 (\u001b[38;5;33mGRU\u001b[0m)                     │ (\u001b[38;5;45mNone\u001b[0m, \u001b[38;5;34m100\u001b[0m)            │        \u001b[38;5;34m60,600\u001b[0m │\n",
       "├─────────────────────────────────┼────────────────────────┼───────────────┤\n",
       "│ dense_8 (\u001b[38;5;33mDense\u001b[0m)                 │ (\u001b[38;5;45mNone\u001b[0m, \u001b[38;5;34m150\u001b[0m)            │        \u001b[38;5;34m15,150\u001b[0m │\n",
       "├─────────────────────────────────┼────────────────────────┼───────────────┤\n",
       "│ dense_9 (\u001b[38;5;33mDense\u001b[0m)                 │ (\u001b[38;5;45mNone\u001b[0m, \u001b[38;5;34m1\u001b[0m)              │           \u001b[38;5;34m151\u001b[0m │\n",
       "└─────────────────────────────────┴────────────────────────┴───────────────┘\n"
      ]
     },
     "metadata": {},
     "output_type": "display_data"
    },
    {
     "data": {
      "text/html": [
       "<pre style=\"white-space:pre;overflow-x:auto;line-height:normal;font-family:Menlo,'DejaVu Sans Mono',consolas,'Courier New',monospace\"><span style=\"font-weight: bold\"> Total params: </span><span style=\"color: #00af00; text-decoration-color: #00af00\">112,201</span> (438.29 KB)\n",
       "</pre>\n"
      ],
      "text/plain": [
       "\u001b[1m Total params: \u001b[0m\u001b[38;5;34m112,201\u001b[0m (438.29 KB)\n"
      ]
     },
     "metadata": {},
     "output_type": "display_data"
    },
    {
     "data": {
      "text/html": [
       "<pre style=\"white-space:pre;overflow-x:auto;line-height:normal;font-family:Menlo,'DejaVu Sans Mono',consolas,'Courier New',monospace\"><span style=\"font-weight: bold\"> Trainable params: </span><span style=\"color: #00af00; text-decoration-color: #00af00\">112,201</span> (438.29 KB)\n",
       "</pre>\n"
      ],
      "text/plain": [
       "\u001b[1m Trainable params: \u001b[0m\u001b[38;5;34m112,201\u001b[0m (438.29 KB)\n"
      ]
     },
     "metadata": {},
     "output_type": "display_data"
    },
    {
     "data": {
      "text/html": [
       "<pre style=\"white-space:pre;overflow-x:auto;line-height:normal;font-family:Menlo,'DejaVu Sans Mono',consolas,'Courier New',monospace\"><span style=\"font-weight: bold\"> Non-trainable params: </span><span style=\"color: #00af00; text-decoration-color: #00af00\">0</span> (0.00 B)\n",
       "</pre>\n"
      ],
      "text/plain": [
       "\u001b[1m Non-trainable params: \u001b[0m\u001b[38;5;34m0\u001b[0m (0.00 B)\n"
      ]
     },
     "metadata": {},
     "output_type": "display_data"
    },
    {
     "name": "stdout",
     "output_type": "stream",
     "text": [
      "Epoch 1/15\n",
      "\u001b[1m121/121\u001b[0m \u001b[32m━━━━━━━━━━━━━━━━━━━━\u001b[0m\u001b[37m\u001b[0m \u001b[1m4s\u001b[0m 9ms/step - loss: 4.3124 - mae: 1.6562 - val_loss: 1.5333 - val_mae: 1.0533\n",
      "Epoch 2/15\n",
      "\u001b[1m121/121\u001b[0m \u001b[32m━━━━━━━━━━━━━━━━━━━━\u001b[0m\u001b[37m\u001b[0m \u001b[1m1s\u001b[0m 6ms/step - loss: 1.4584 - mae: 0.9734 - val_loss: 1.4250 - val_mae: 0.9735\n",
      "Epoch 3/15\n",
      "\u001b[1m121/121\u001b[0m \u001b[32m━━━━━━━━━━━━━━━━━━━━\u001b[0m\u001b[37m\u001b[0m \u001b[1m1s\u001b[0m 5ms/step - loss: 1.3183 - mae: 0.9109 - val_loss: 1.4101 - val_mae: 0.9747\n",
      "Epoch 4/15\n",
      "\u001b[1m121/121\u001b[0m \u001b[32m━━━━━━━━━━━━━━━━━━━━\u001b[0m\u001b[37m\u001b[0m \u001b[1m1s\u001b[0m 5ms/step - loss: 1.2565 - mae: 0.9031 - val_loss: 1.4023 - val_mae: 0.9438\n",
      "Epoch 5/15\n",
      "\u001b[1m121/121\u001b[0m \u001b[32m━━━━━━━━━━━━━━━━━━━━\u001b[0m\u001b[37m\u001b[0m \u001b[1m1s\u001b[0m 5ms/step - loss: 1.2228 - mae: 0.8787 - val_loss: 1.4101 - val_mae: 0.9323\n",
      "Epoch 6/15\n",
      "\u001b[1m121/121\u001b[0m \u001b[32m━━━━━━━━━━━━━━━━━━━━\u001b[0m\u001b[37m\u001b[0m \u001b[1m1s\u001b[0m 5ms/step - loss: 1.2025 - mae: 0.8740 - val_loss: 1.6164 - val_mae: 1.0159\n",
      "Epoch 7/15\n",
      "\u001b[1m121/121\u001b[0m \u001b[32m━━━━━━━━━━━━━━━━━━━━\u001b[0m\u001b[37m\u001b[0m \u001b[1m1s\u001b[0m 5ms/step - loss: 1.2840 - mae: 0.9086 - val_loss: 1.3818 - val_mae: 0.9234\n",
      "Epoch 8/15\n",
      "\u001b[1m121/121\u001b[0m \u001b[32m━━━━━━━━━━━━━━━━━━━━\u001b[0m\u001b[37m\u001b[0m \u001b[1m1s\u001b[0m 6ms/step - loss: 1.1548 - mae: 0.8496 - val_loss: 1.4057 - val_mae: 0.9412\n",
      "Epoch 9/15\n",
      "\u001b[1m121/121\u001b[0m \u001b[32m━━━━━━━━━━━━━━━━━━━━\u001b[0m\u001b[37m\u001b[0m \u001b[1m1s\u001b[0m 5ms/step - loss: 1.0786 - mae: 0.8167 - val_loss: 1.4247 - val_mae: 0.9582\n",
      "Epoch 10/15\n",
      "\u001b[1m121/121\u001b[0m \u001b[32m━━━━━━━━━━━━━━━━━━━━\u001b[0m\u001b[37m\u001b[0m \u001b[1m1s\u001b[0m 5ms/step - loss: 1.0920 - mae: 0.8214 - val_loss: 1.4104 - val_mae: 0.9158\n",
      "Epoch 11/15\n",
      "\u001b[1m121/121\u001b[0m \u001b[32m━━━━━━━━━━━━━━━━━━━━\u001b[0m\u001b[37m\u001b[0m \u001b[1m1s\u001b[0m 5ms/step - loss: 1.0881 - mae: 0.8173 - val_loss: 1.4268 - val_mae: 0.9249\n",
      "Epoch 12/15\n",
      "\u001b[1m121/121\u001b[0m \u001b[32m━━━━━━━━━━━━━━━━━━━━\u001b[0m\u001b[37m\u001b[0m \u001b[1m1s\u001b[0m 5ms/step - loss: 1.0225 - mae: 0.7928 - val_loss: 1.5460 - val_mae: 0.9508\n",
      "Epoch 13/15\n",
      "\u001b[1m121/121\u001b[0m \u001b[32m━━━━━━━━━━━━━━━━━━━━\u001b[0m\u001b[37m\u001b[0m \u001b[1m1s\u001b[0m 6ms/step - loss: 0.9785 - mae: 0.7716 - val_loss: 1.4468 - val_mae: 0.9519\n",
      "Epoch 14/15\n",
      "\u001b[1m121/121\u001b[0m \u001b[32m━━━━━━━━━━━━━━━━━━━━\u001b[0m\u001b[37m\u001b[0m \u001b[1m1s\u001b[0m 5ms/step - loss: 0.9527 - mae: 0.7662 - val_loss: 1.4718 - val_mae: 0.9616\n",
      "Epoch 15/15\n",
      "\u001b[1m121/121\u001b[0m \u001b[32m━━━━━━━━━━━━━━━━━━━━\u001b[0m\u001b[37m\u001b[0m \u001b[1m1s\u001b[0m 4ms/step - loss: 0.8604 - mae: 0.7132 - val_loss: 1.5272 - val_mae: 0.9617\n",
      "\u001b[1m41/41\u001b[0m \u001b[32m━━━━━━━━━━━━━━━━━━━━\u001b[0m\u001b[37m\u001b[0m \u001b[1m0s\u001b[0m 2ms/step - loss: 1.5530 - mae: 0.9736\n",
      "Test Loss: 1.5271683931350708\n",
      "Test MAE: 0.9616661667823792\n"
     ]
    }
   ],
   "source": [
    "# Parameters\n",
    "input_shape = (max_cols, data_array.shape[2])  # Assuming data is (samples, timesteps, features)\n",
    "\n",
    "# Split data into training and testing sets\n",
    "X_train, X_test, y_train, y_test, mask_train, mask_test = train_test_split(\n",
    "    data_array, labels_array, mask_array, test_size=0.2, random_state=42\n",
    ")\n",
    "# Parameters\n",
    "input_shape = (data_array.shape[1], data_array.shape[2])  # Assuming data is (samples, timesteps, features)\n",
    "\n",
    "# Hyperparameters and other parameters\n",
    "RANDOM_SEED = 42\n",
    "TEST_SIZE = 0.25\n",
    "EPOCHS = 15\n",
    "BATCH_SIZE = 32\n",
    "LEARNING_RATE = 0.002\n",
    "GRU_UNITS = 100\n",
    "DENSE_UNITS = 150\n",
    "\n",
    "\n",
    "# Define GRU Model\n",
    "def build_gru_model(input_shape, gru_units, dense_units, learning_rate):\n",
    "    model = Sequential([\n",
    "        GRU(gru_units, return_sequences=True, input_shape=input_shape),\n",
    "        GRU(gru_units),\n",
    "        Dense(dense_units, activation='relu'),\n",
    "        Dense(1, activation='linear')  # Output layer for ordinal regression\n",
    "    ])\n",
    "    model.compile(optimizer=Adam(learning_rate=learning_rate), loss=MeanSquaredError(), metrics=['mae'])\n",
    "    return model\n",
    "\n",
    "model = build_gru_model(input_shape, GRU_UNITS, DENSE_UNITS, LEARNING_RATE)\n",
    "\n",
    "# Split data into training and testing sets\n",
    "X_train, X_test, y_train, y_test = train_test_split(\n",
    "    data_array, labels_array, test_size=TEST_SIZE, random_state=RANDOM_SEED\n",
    ")\n",
    "\n",
    "# Summary of the model\n",
    "model.summary()\n",
    "\n",
    "# Train the model\n",
    "history = model.fit(X_train, y_train, epochs=EPOCHS, batch_size=BATCH_SIZE, validation_data=(X_test, y_test))\n",
    "\n",
    "# Evaluate the model\n",
    "loss, mae = model.evaluate(X_test, y_test)\n",
    "print(f\"Test Loss: {loss}\")\n",
    "print(f\"Test MAE: {mae}\")"
   ]
  },
  {
   "cell_type": "code",
   "execution_count": 17,
   "metadata": {},
   "outputs": [
    {
     "name": "stdout",
     "output_type": "stream",
     "text": [
      "\u001b[1m41/41\u001b[0m \u001b[32m━━━━━━━━━━━━━━━━━━━━\u001b[0m\u001b[37m\u001b[0m \u001b[1m1s\u001b[0m 14ms/step\n"
     ]
    },
    {
     "data": {
      "image/png": "[encoded data removed]",
      "text/plain": [
       "<Figure size 1000x800 with 2 Axes>"
      ]
     },
     "metadata": {},
     "output_type": "display_data"
    }
   ],
   "source": [
    "# Generate predictions\n",
    "y_pred = model.predict(X_test).flatten()\n",
    "\n",
    "# Convert predictions and actual values to integers\n",
    "y_pred_int = np.rint(y_pred).astype(int)\n",
    "y_test_int = np.rint(y_test).astype(int)\n",
    "\n",
    "# Create confusion matrix\n",
    "conf_matrix = confusion_matrix(y_test_int, y_pred_int)\n",
    "\n",
    "# Visualize the confusion matrix\n",
    "plt.figure(figsize=(10, 8))\n",
    "sns.heatmap(conf_matrix, annot=True, fmt='d', cmap='Blues')\n",
    "plt.xlabel('Predicted Labels')\n",
    "plt.ylabel('True Labels')\n",
    "plt.title('Confusion Matrix')\n",
    "plt.show()"
   ]
  },
  {
   "cell_type": "markdown",
   "metadata": {},
   "source": [
    "## Faulty code"
   ]
  },
  {
   "cell_type": "code",
   "execution_count": 1,
   "metadata": {},
   "outputs": [
    {
     "name": "stdout",
     "output_type": "stream",
     "text": [
      "Data shape: (5163, 3, 19)\n",
      "Mask shape: (5163, 3, 19)\n",
      "Labels shape: (5163,)\n"
     ]
    },
    {
     "name": "stderr",
     "output_type": "stream",
     "text": [
      "c:\\Users\\Xande\\AppData\\Local\\Programs\\Python\\Python312\\Lib\\site-packages\\keras\\src\\layers\\rnn\\rnn.py:204: UserWarning: Do not pass an `input_shape`/`input_dim` argument to a layer. When using Sequential models, prefer using an `Input(shape)` object as the first layer in the model instead.\n",
      "  super().__init__(**kwargs)\n"
     ]
    },
    {
     "data": {
      "text/html": [
       "<pre style=\"white-space:pre;overflow-x:auto;line-height:normal;font-family:Menlo,'DejaVu Sans Mono',consolas,'Courier New',monospace\"><span style=\"font-weight: bold\">Model: \"sequential\"</span>\n",
       "</pre>\n"
      ],
      "text/plain": [
       "\u001b[1mModel: \"sequential\"\u001b[0m\n"
      ]
     },
     "metadata": {},
     "output_type": "display_data"
    },
    {
     "data": {
      "text/html": [
       "<pre style=\"white-space:pre;overflow-x:auto;line-height:normal;font-family:Menlo,'DejaVu Sans Mono',consolas,'Courier New',monospace\">┏━━━━━━━━━━━━━━━━━━━━━━━━━━━━━━━━━┳━━━━━━━━━━━━━━━━━━━━━━━━┳━━━━━━━━━━━━━━━┓\n",
       "┃<span style=\"font-weight: bold\"> Layer (type)                    </span>┃<span style=\"font-weight: bold\"> Output Shape           </span>┃<span style=\"font-weight: bold\">       Param # </span>┃\n",
       "┡━━━━━━━━━━━━━━━━━━━━━━━━━━━━━━━━━╇━━━━━━━━━━━━━━━━━━━━━━━━╇━━━━━━━━━━━━━━━┩\n",
       "│ gru (<span style=\"color: #0087ff; text-decoration-color: #0087ff\">GRU</span>)                       │ (<span style=\"color: #00d7ff; text-decoration-color: #00d7ff\">None</span>, <span style=\"color: #00af00; text-decoration-color: #00af00\">3</span>, <span style=\"color: #00af00; text-decoration-color: #00af00\">100</span>)         │        <span style=\"color: #00af00; text-decoration-color: #00af00\">36,300</span> │\n",
       "├─────────────────────────────────┼────────────────────────┼───────────────┤\n",
       "│ gru_1 (<span style=\"color: #0087ff; text-decoration-color: #0087ff\">GRU</span>)                     │ (<span style=\"color: #00d7ff; text-decoration-color: #00d7ff\">None</span>, <span style=\"color: #00af00; text-decoration-color: #00af00\">100</span>)            │        <span style=\"color: #00af00; text-decoration-color: #00af00\">60,600</span> │\n",
       "├─────────────────────────────────┼────────────────────────┼───────────────┤\n",
       "│ dense (<span style=\"color: #0087ff; text-decoration-color: #0087ff\">Dense</span>)                   │ (<span style=\"color: #00d7ff; text-decoration-color: #00d7ff\">None</span>, <span style=\"color: #00af00; text-decoration-color: #00af00\">150</span>)            │        <span style=\"color: #00af00; text-decoration-color: #00af00\">15,150</span> │\n",
       "├─────────────────────────────────┼────────────────────────┼───────────────┤\n",
       "│ dense_1 (<span style=\"color: #0087ff; text-decoration-color: #0087ff\">Dense</span>)                 │ (<span style=\"color: #00d7ff; text-decoration-color: #00d7ff\">None</span>, <span style=\"color: #00af00; text-decoration-color: #00af00\">1</span>)              │           <span style=\"color: #00af00; text-decoration-color: #00af00\">151</span> │\n",
       "└─────────────────────────────────┴────────────────────────┴───────────────┘\n",
       "</pre>\n"
      ],
      "text/plain": [
       "┏━━━━━━━━━━━━━━━━━━━━━━━━━━━━━━━━━┳━━━━━━━━━━━━━━━━━━━━━━━━┳━━━━━━━━━━━━━━━┓\n",
       "┃\u001b[1m \u001b[0m\u001b[1mLayer (type)                   \u001b[0m\u001b[1m \u001b[0m┃\u001b[1m \u001b[0m\u001b[1mOutput Shape          \u001b[0m\u001b[1m \u001b[0m┃\u001b[1m \u001b[0m\u001b[1m      Param #\u001b[0m\u001b[1m \u001b[0m┃\n",
       "┡━━━━━━━━━━━━━━━━━━━━━━━━━━━━━━━━━╇━━━━━━━━━━━━━━━━━━━━━━━━╇━━━━━━━━━━━━━━━┩\n",
       "│ gru (\u001b[38;5;33mGRU\u001b[0m)                       │ (\u001b[38;5;45mNone\u001b[0m, \u001b[38;5;34m3\u001b[0m, \u001b[38;5;34m100\u001b[0m)         │        \u001b[38;5;34m36,300\u001b[0m │\n",
       "├─────────────────────────────────┼────────────────────────┼───────────────┤\n",
       "│ gru_1 (\u001b[38;5;33mGRU\u001b[0m)                     │ (\u001b[38;5;45mNone\u001b[0m, \u001b[38;5;34m100\u001b[0m)            │        \u001b[38;5;34m60,600\u001b[0m │\n",
       "├─────────────────────────────────┼────────────────────────┼───────────────┤\n",
       "│ dense (\u001b[38;5;33mDense\u001b[0m)                   │ (\u001b[38;5;45mNone\u001b[0m, \u001b[38;5;34m150\u001b[0m)            │        \u001b[38;5;34m15,150\u001b[0m │\n",
       "├─────────────────────────────────┼────────────────────────┼───────────────┤\n",
       "│ dense_1 (\u001b[38;5;33mDense\u001b[0m)                 │ (\u001b[38;5;45mNone\u001b[0m, \u001b[38;5;34m1\u001b[0m)              │           \u001b[38;5;34m151\u001b[0m │\n",
       "└─────────────────────────────────┴────────────────────────┴───────────────┘\n"
      ]
     },
     "metadata": {},
     "output_type": "display_data"
    },
    {
     "data": {
      "text/html": [
       "<pre style=\"white-space:pre;overflow-x:auto;line-height:normal;font-family:Menlo,'DejaVu Sans Mono',consolas,'Courier New',monospace\"><span style=\"font-weight: bold\"> Total params: </span><span style=\"color: #00af00; text-decoration-color: #00af00\">112,201</span> (438.29 KB)\n",
       "</pre>\n"
      ],
      "text/plain": [
       "\u001b[1m Total params: \u001b[0m\u001b[38;5;34m112,201\u001b[0m (438.29 KB)\n"
      ]
     },
     "metadata": {},
     "output_type": "display_data"
    },
    {
     "data": {
      "text/html": [
       "<pre style=\"white-space:pre;overflow-x:auto;line-height:normal;font-family:Menlo,'DejaVu Sans Mono',consolas,'Courier New',monospace\"><span style=\"font-weight: bold\"> Trainable params: </span><span style=\"color: #00af00; text-decoration-color: #00af00\">112,201</span> (438.29 KB)\n",
       "</pre>\n"
      ],
      "text/plain": [
       "\u001b[1m Trainable params: \u001b[0m\u001b[38;5;34m112,201\u001b[0m (438.29 KB)\n"
      ]
     },
     "metadata": {},
     "output_type": "display_data"
    },
    {
     "data": {
      "text/html": [
       "<pre style=\"white-space:pre;overflow-x:auto;line-height:normal;font-family:Menlo,'DejaVu Sans Mono',consolas,'Courier New',monospace\"><span style=\"font-weight: bold\"> Non-trainable params: </span><span style=\"color: #00af00; text-decoration-color: #00af00\">0</span> (0.00 B)\n",
       "</pre>\n"
      ],
      "text/plain": [
       "\u001b[1m Non-trainable params: \u001b[0m\u001b[38;5;34m0\u001b[0m (0.00 B)\n"
      ]
     },
     "metadata": {},
     "output_type": "display_data"
    },
    {
     "name": "stdout",
     "output_type": "stream",
     "text": [
      "Epoch 1/15\n",
      "\u001b[1m121/121\u001b[0m \u001b[32m━━━━━━━━━━━━━━━━━━━━\u001b[0m\u001b[37m\u001b[0m \u001b[1m4s\u001b[0m 8ms/step - loss: 4.0425 - mae: 1.6215 - val_loss: 1.4389 - val_mae: 0.9550\n",
      "Epoch 2/15\n",
      "\u001b[1m121/121\u001b[0m \u001b[32m━━━━━━━━━━━━━━━━━━━━\u001b[0m\u001b[37m\u001b[0m \u001b[1m1s\u001b[0m 4ms/step - loss: 1.3901 - mae: 0.9462 - val_loss: 1.5911 - val_mae: 0.9817\n",
      "Epoch 3/15\n",
      "\u001b[1m121/121\u001b[0m \u001b[32m━━━━━━━━━━━━━━━━━━━━\u001b[0m\u001b[37m\u001b[0m \u001b[1m1s\u001b[0m 4ms/step - loss: 1.3095 - mae: 0.9134 - val_loss: 1.3583 - val_mae: 0.9375\n",
      "Epoch 4/15\n",
      "\u001b[1m121/121\u001b[0m \u001b[32m━━━━━━━━━━━━━━━━━━━━\u001b[0m\u001b[37m\u001b[0m \u001b[1m1s\u001b[0m 5ms/step - loss: 1.2657 - mae: 0.8936 - val_loss: 1.4187 - val_mae: 0.9886\n",
      "Epoch 5/15\n",
      "\u001b[1m121/121\u001b[0m \u001b[32m━━━━━━━━━━━━━━━━━━━━\u001b[0m\u001b[37m\u001b[0m \u001b[1m1s\u001b[0m 4ms/step - loss: 1.2641 - mae: 0.9041 - val_loss: 1.4362 - val_mae: 0.9586\n",
      "Epoch 6/15\n",
      "\u001b[1m121/121\u001b[0m \u001b[32m━━━━━━━━━━━━━━━━━━━━\u001b[0m\u001b[37m\u001b[0m \u001b[1m1s\u001b[0m 4ms/step - loss: 1.2850 - mae: 0.9092 - val_loss: 1.4044 - val_mae: 0.9519\n",
      "Epoch 7/15\n",
      "\u001b[1m121/121\u001b[0m \u001b[32m━━━━━━━━━━━━━━━━━━━━\u001b[0m\u001b[37m\u001b[0m \u001b[1m1s\u001b[0m 4ms/step - loss: 1.1938 - mae: 0.8700 - val_loss: 1.3518 - val_mae: 0.9229\n",
      "Epoch 8/15\n",
      "\u001b[1m121/121\u001b[0m \u001b[32m━━━━━━━━━━━━━━━━━━━━\u001b[0m\u001b[37m\u001b[0m \u001b[1m1s\u001b[0m 5ms/step - loss: 1.1285 - mae: 0.8308 - val_loss: 1.4219 - val_mae: 0.9483\n",
      "Epoch 9/15\n",
      "\u001b[1m121/121\u001b[0m \u001b[32m━━━━━━━━━━━━━━━━━━━━\u001b[0m\u001b[37m\u001b[0m \u001b[1m1s\u001b[0m 4ms/step - loss: 1.1376 - mae: 0.8407 - val_loss: 1.3645 - val_mae: 0.9282\n",
      "Epoch 10/15\n",
      "\u001b[1m121/121\u001b[0m \u001b[32m━━━━━━━━━━━━━━━━━━━━\u001b[0m\u001b[37m\u001b[0m \u001b[1m1s\u001b[0m 5ms/step - loss: 1.1034 - mae: 0.8328 - val_loss: 1.4083 - val_mae: 0.9697\n",
      "Epoch 11/15\n",
      "\u001b[1m121/121\u001b[0m \u001b[32m━━━━━━━━━━━━━━━━━━━━\u001b[0m\u001b[37m\u001b[0m \u001b[1m1s\u001b[0m 4ms/step - loss: 1.0937 - mae: 0.8373 - val_loss: 1.4038 - val_mae: 0.9348\n",
      "Epoch 12/15\n",
      "\u001b[1m121/121\u001b[0m \u001b[32m━━━━━━━━━━━━━━━━━━━━\u001b[0m\u001b[37m\u001b[0m \u001b[1m1s\u001b[0m 4ms/step - loss: 1.0170 - mae: 0.7848 - val_loss: 1.4342 - val_mae: 0.9358\n",
      "Epoch 13/15\n",
      "\u001b[1m121/121\u001b[0m \u001b[32m━━━━━━━━━━━━━━━━━━━━\u001b[0m\u001b[37m\u001b[0m \u001b[1m1s\u001b[0m 4ms/step - loss: 1.0336 - mae: 0.7958 - val_loss: 1.4026 - val_mae: 0.9222\n",
      "Epoch 14/15\n",
      "\u001b[1m121/121\u001b[0m \u001b[32m━━━━━━━━━━━━━━━━━━━━\u001b[0m\u001b[37m\u001b[0m \u001b[1m1s\u001b[0m 5ms/step - loss: 0.8762 - mae: 0.7282 - val_loss: 1.6460 - val_mae: 1.0368\n",
      "Epoch 15/15\n",
      "\u001b[1m121/121\u001b[0m \u001b[32m━━━━━━━━━━━━━━━━━━━━\u001b[0m\u001b[37m\u001b[0m \u001b[1m1s\u001b[0m 5ms/step - loss: 0.9837 - mae: 0.7748 - val_loss: 1.4822 - val_mae: 0.9490\n",
      "\u001b[1m41/41\u001b[0m \u001b[32m━━━━━━━━━━━━━━━━━━━━\u001b[0m\u001b[37m\u001b[0m \u001b[1m0s\u001b[0m 2ms/step - loss: 1.4993 - mae: 0.9571\n",
      "Test Loss: 1.48220956325531\n",
      "Test MAE: 0.9489873647689819\n"
     ]
    }
   ],
   "source": [
    "import os\n",
    "import pandas as pd\n",
    "import numpy as np\n",
    "from sklearn.model_selection import train_test_split\n",
    "import tensorflow as tf\n",
    "from tensorflow.keras.models import Model, Sequential\n",
    "from tensorflow.keras.layers import GRU, Dense, Masking, Input, Dropout\n",
    "from tensorflow.keras.optimizers import Adam\n",
    "from tensorflow.keras.losses import MeanSquaredError\n",
    "import tensorflow.keras.backend as K\n",
    "import matplotlib.pyplot as plt\n",
    "import seaborn as sns\n",
    "from sklearn.metrics import confusion_matrix, ConfusionMatrixDisplay, mean_absolute_error, mean_squared_error\n",
    "\n",
    "# Define the path to your data directory\n",
    "data_directory = r'C:\\Users\\Xande\\OneDrive\\Documents\\Masters Project\\Simulated Data\\data\\imputed_data'\n",
    "\n",
    "def load_data(directory):\n",
    "    data = {}\n",
    "    mask = {}\n",
    "    labels = {}\n",
    "\n",
    "    for filename in os.listdir(directory):\n",
    "        if filename.startswith('imputed_matrix_'):\n",
    "            id = filename.split('_')[2].split('.')[0]\n",
    "            data[id] = pd.read_csv(os.path.join(directory, filename)).values\n",
    "        elif filename.startswith('mask_matrix_'):\n",
    "            id = filename.split('_')[2].split('.')[0]\n",
    "            mask[id] = pd.read_csv(os.path.join(directory, filename)).values\n",
    "        elif filename.startswith('label_'):\n",
    "            id = filename.split('_')[1].split('.')[0]\n",
    "            label_df = pd.read_csv(os.path.join(directory, filename))\n",
    "            if label_df.shape[0] > 0:\n",
    "                labels[id] = int(label_df.iloc[0, 0])  # Ensure labels are integers\n",
    "            else:\n",
    "                print(f\"Error reading label for {id}. File content:\")\n",
    "                print(label_df)\n",
    "    \n",
    "    return data, mask, labels\n",
    "\n",
    "# Load the data\n",
    "data, mask, labels = load_data(data_directory)\n",
    "\n",
    "# Find the maximum number of columns in any matrix\n",
    "max_cols = max(matrix.shape[1] for matrix in data.values())\n",
    "\n",
    "def pad_matrix(matrix, max_cols):\n",
    "    \"\"\"Pad each row of the matrix to have the same number of columns.\"\"\"\n",
    "    padding_width = max_cols - matrix.shape[1]\n",
    "    if padding_width > 0:\n",
    "        return np.pad(matrix, ((0, 0), (0, padding_width)), mode='constant', constant_values=0)\n",
    "    return matrix\n",
    "\n",
    "def pad_sequences_data(data_dict, max_cols):\n",
    "    padded_sequences = {id: pad_matrix(matrix, max_cols) for id, matrix in data_dict.items()}\n",
    "    return padded_sequences\n",
    "\n",
    "# Pad data and mask matrices\n",
    "padded_data = pad_sequences_data(data, max_cols)\n",
    "padded_masks = pad_sequences_data(mask, max_cols)\n",
    "\n",
    "# Convert to numpy arrays\n",
    "data_array = np.array(list(padded_data.values()))\n",
    "mask_array = np.array(list(padded_masks.values()))\n",
    "\n",
    "# Convert labels to numpy array\n",
    "labels_list = [labels[id] for id in padded_data.keys()]\n",
    "labels_array = np.array(labels_list)\n",
    "\n",
    "print(\"Data shape:\", data_array.shape)\n",
    "print(\"Mask shape:\", mask_array.shape)\n",
    "print(\"Labels shape:\", labels_array.shape)\n",
    "\n",
    "# Parameters\n",
    "input_shape = (max_cols, data_array.shape[2])  # Assuming data is (samples, timesteps, features)\n",
    "\n",
    "# Split data into training and testing sets\n",
    "X_train, X_test, y_train, y_test, mask_train, mask_test = train_test_split(\n",
    "    data_array, labels_array, mask_array, test_size=0.2, random_state=42\n",
    ")\n",
    "# Parameters\n",
    "input_shape = (data_array.shape[1], data_array.shape[2])  # Assuming data is (samples, timesteps, features)\n",
    "\n",
    "# Hyperparameters and other parameters\n",
    "RANDOM_SEED = 42\n",
    "TEST_SIZE = 0.25\n",
    "EPOCHS = 15\n",
    "BATCH_SIZE = 32\n",
    "LEARNING_RATE = 0.002\n",
    "GRU_UNITS = 100\n",
    "DENSE_UNITS = 150\n",
    "\n",
    "\n",
    "# Define GRU Model\n",
    "def build_gru_model(input_shape, gru_units, dense_units, learning_rate):\n",
    "    model = Sequential([\n",
    "        GRU(gru_units, return_sequences=True, input_shape=input_shape),\n",
    "        GRU(gru_units),\n",
    "        Dense(dense_units, activation='relu'),\n",
    "        Dense(1, activation='linear')  # Output layer for ordinal regression\n",
    "    ])\n",
    "    model.compile(optimizer=Adam(learning_rate=learning_rate), loss=MeanSquaredError(), metrics=['mae'])\n",
    "    return model\n",
    "\n",
    "model = build_gru_model(input_shape, GRU_UNITS, DENSE_UNITS, LEARNING_RATE)\n",
    "\n",
    "# Split data into training and testing sets\n",
    "X_train, X_test, y_train, y_test = train_test_split(\n",
    "    data_array, labels_array, test_size=TEST_SIZE, random_state=RANDOM_SEED\n",
    ")\n",
    "\n",
    "# Summary of the model\n",
    "model.summary()\n",
    "\n",
    "# Train the model\n",
    "history = model.fit(X_train, y_train, epochs=EPOCHS, batch_size=BATCH_SIZE, validation_data=(X_test, y_test))\n",
    "\n",
    "# Evaluate the model\n",
    "loss, mae = model.evaluate(X_test, y_test)\n",
    "print(f\"Test Loss: {loss}\")\n",
    "print(f\"Test MAE: {mae}\")"
   ]
  },
  {
   "cell_type": "code",
   "execution_count": 2,
   "metadata": {},
   "outputs": [
    {
     "name": "stdout",
     "output_type": "stream",
     "text": [
      "\u001b[1m41/41\u001b[0m \u001b[32m━━━━━━━━━━━━━━━━━━━━\u001b[0m\u001b[37m\u001b[0m \u001b[1m1s\u001b[0m 11ms/step\n"
     ]
    },
    {
     "data": {
      "image/png": "[encoded data removed]",
      "text/plain": [
       "<Figure size 1000x800 with 2 Axes>"
      ]
     },
     "metadata": {},
     "output_type": "display_data"
    }
   ],
   "source": [
    "# Generate predictions\n",
    "y_pred = model.predict(X_test).flatten()\n",
    "\n",
    "# Convert predictions and actual values to integers\n",
    "y_pred_int = np.rint(y_pred).astype(int)\n",
    "y_test_int = np.rint(y_test).astype(int)\n",
    "\n",
    "# Create confusion matrix\n",
    "conf_matrix = confusion_matrix(y_test_int, y_pred_int)\n",
    "\n",
    "# Visualize the confusion matrix\n",
    "plt.figure(figsize=(10, 8))\n",
    "sns.heatmap(conf_matrix, annot=True, fmt='d', cmap='Blues')\n",
    "plt.xlabel('Predicted Labels')\n",
    "plt.ylabel('True Labels')\n",
    "plt.title('Confusion Matrix')\n",
    "plt.show()"
   ]
  }
 ],
 "metadata": {
  "kernelspec": {
   "display_name": "Python 3",
   "language": "python",
   "name": "python3"
  },
  "language_info": {
   "codemirror_mode": {
    "name": "ipython",
    "version": 3
   },
   "file_extension": ".py",
   "mimetype": "text/x-python",
   "name": "python",
   "nbconvert_exporter": "python",
   "pygments_lexer": "ipython3",
   "version": "3.12.3"
  }
 },
 "nbformat": 4,
 "nbformat_minor": 2
}
